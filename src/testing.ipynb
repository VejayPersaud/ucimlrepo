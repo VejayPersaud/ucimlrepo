{
 "cells": [
  {
   "cell_type": "code",
   "execution_count": 60,
   "metadata": {},
   "outputs": [
    {
     "name": "stdout",
     "output_type": "stream",
     "text": [
      "Defaulting to user installation because normal site-packages is not writeable\n",
      "Requirement already satisfied: ucimlrepo in /home/parallels/.local/lib/python3.10/site-packages (0.0.7)\n",
      "Requirement already satisfied: certifi>=2020.12.5 in /home/parallels/.local/lib/python3.10/site-packages (from ucimlrepo) (2024.7.4)\n",
      "Requirement already satisfied: pandas>=1.0.0 in /home/parallels/.local/lib/python3.10/site-packages (from ucimlrepo) (2.2.2)\n",
      "Requirement already satisfied: pytz>=2020.1 in /usr/lib/python3/dist-packages (from pandas>=1.0.0->ucimlrepo) (2022.1)\n",
      "Requirement already satisfied: numpy>=1.22.4 in /home/parallels/.local/lib/python3.10/site-packages (from pandas>=1.0.0->ucimlrepo) (2.0.0)\n",
      "Requirement already satisfied: python-dateutil>=2.8.2 in /home/parallels/.local/lib/python3.10/site-packages (from pandas>=1.0.0->ucimlrepo) (2.9.0.post0)\n",
      "Requirement already satisfied: tzdata>=2022.7 in /home/parallels/.local/lib/python3.10/site-packages (from pandas>=1.0.0->ucimlrepo) (2024.1)\n",
      "Requirement already satisfied: six>=1.5 in /usr/lib/python3/dist-packages (from python-dateutil>=2.8.2->pandas>=1.0.0->ucimlrepo) (1.16.0)\n",
      "Defaulting to user installation because normal site-packages is not writeable\n",
      "Requirement already satisfied: scikit-learn in /home/parallels/.local/lib/python3.10/site-packages (1.5.1)\n",
      "Requirement already satisfied: numpy>=1.19.5 in /home/parallels/.local/lib/python3.10/site-packages (from scikit-learn) (2.0.0)\n",
      "Requirement already satisfied: joblib>=1.2.0 in /home/parallels/.local/lib/python3.10/site-packages (from scikit-learn) (1.4.2)\n",
      "Requirement already satisfied: scipy>=1.6.0 in /home/parallels/.local/lib/python3.10/site-packages (from scikit-learn) (1.14.0)\n",
      "Requirement already satisfied: threadpoolctl>=3.1.0 in /home/parallels/.local/lib/python3.10/site-packages (from scikit-learn) (3.5.0)\n",
      "Defaulting to user installation because normal site-packages is not writeable\n",
      "Requirement already satisfied: matplotlib in /home/parallels/.local/lib/python3.10/site-packages (3.9.1)\n",
      "Requirement already satisfied: kiwisolver>=1.3.1 in /home/parallels/.local/lib/python3.10/site-packages (from matplotlib) (1.4.5)\n",
      "Requirement already satisfied: pillow>=8 in /usr/lib/python3/dist-packages (from matplotlib) (9.0.1)\n",
      "Requirement already satisfied: pyparsing>=2.3.1 in /usr/lib/python3/dist-packages (from matplotlib) (2.4.7)\n",
      "Requirement already satisfied: cycler>=0.10 in /home/parallels/.local/lib/python3.10/site-packages (from matplotlib) (0.12.1)\n",
      "Requirement already satisfied: contourpy>=1.0.1 in /home/parallels/.local/lib/python3.10/site-packages (from matplotlib) (1.2.1)\n",
      "Requirement already satisfied: python-dateutil>=2.7 in /home/parallels/.local/lib/python3.10/site-packages (from matplotlib) (2.9.0.post0)\n",
      "Requirement already satisfied: packaging>=20.0 in /home/parallels/.local/lib/python3.10/site-packages (from matplotlib) (24.1)\n",
      "Requirement already satisfied: numpy>=1.23 in /home/parallels/.local/lib/python3.10/site-packages (from matplotlib) (2.0.0)\n",
      "Requirement already satisfied: fonttools>=4.22.0 in /home/parallels/.local/lib/python3.10/site-packages (from matplotlib) (4.53.1)\n",
      "Requirement already satisfied: six>=1.5 in /usr/lib/python3/dist-packages (from python-dateutil>=2.7->matplotlib) (1.16.0)\n",
      "Defaulting to user installation because normal site-packages is not writeable\n",
      "Requirement already satisfied: seaborn in /home/parallels/.local/lib/python3.10/site-packages (0.13.2)\n",
      "Requirement already satisfied: numpy!=1.24.0,>=1.20 in /home/parallels/.local/lib/python3.10/site-packages (from seaborn) (2.0.0)\n",
      "Requirement already satisfied: matplotlib!=3.6.1,>=3.4 in /home/parallels/.local/lib/python3.10/site-packages (from seaborn) (3.9.1)\n",
      "Requirement already satisfied: pandas>=1.2 in /home/parallels/.local/lib/python3.10/site-packages (from seaborn) (2.2.2)\n",
      "Requirement already satisfied: contourpy>=1.0.1 in /home/parallels/.local/lib/python3.10/site-packages (from matplotlib!=3.6.1,>=3.4->seaborn) (1.2.1)\n",
      "Requirement already satisfied: python-dateutil>=2.7 in /home/parallels/.local/lib/python3.10/site-packages (from matplotlib!=3.6.1,>=3.4->seaborn) (2.9.0.post0)\n",
      "Requirement already satisfied: fonttools>=4.22.0 in /home/parallels/.local/lib/python3.10/site-packages (from matplotlib!=3.6.1,>=3.4->seaborn) (4.53.1)\n",
      "Requirement already satisfied: kiwisolver>=1.3.1 in /home/parallels/.local/lib/python3.10/site-packages (from matplotlib!=3.6.1,>=3.4->seaborn) (1.4.5)\n",
      "Requirement already satisfied: packaging>=20.0 in /home/parallels/.local/lib/python3.10/site-packages (from matplotlib!=3.6.1,>=3.4->seaborn) (24.1)\n",
      "Requirement already satisfied: cycler>=0.10 in /home/parallels/.local/lib/python3.10/site-packages (from matplotlib!=3.6.1,>=3.4->seaborn) (0.12.1)\n",
      "Requirement already satisfied: pyparsing>=2.3.1 in /usr/lib/python3/dist-packages (from matplotlib!=3.6.1,>=3.4->seaborn) (2.4.7)\n",
      "Requirement already satisfied: pillow>=8 in /usr/lib/python3/dist-packages (from matplotlib!=3.6.1,>=3.4->seaborn) (9.0.1)\n",
      "Requirement already satisfied: pytz>=2020.1 in /usr/lib/python3/dist-packages (from pandas>=1.2->seaborn) (2022.1)\n",
      "Requirement already satisfied: tzdata>=2022.7 in /home/parallels/.local/lib/python3.10/site-packages (from pandas>=1.2->seaborn) (2024.1)\n",
      "Requirement already satisfied: six>=1.5 in /usr/lib/python3/dist-packages (from python-dateutil>=2.7->matplotlib!=3.6.1,>=3.4->seaborn) (1.16.0)\n"
     ]
    }
   ],
   "source": [
    "!pip3 install -U ucimlrepo \n",
    "!pip install scikit-learn\n",
    "!pip install matplotlib\n",
    "!pip install seaborn"
   ]
  },
  {
   "cell_type": "code",
   "execution_count": 61,
   "metadata": {},
   "outputs": [],
   "source": [
    "import pandas as pd\n",
    "import numpy as np\n",
    "import matplotlib.pyplot as plt\n",
    "import seaborn as sns\n",
    "from sklearn.svm import SVC\n",
    "from sklearn.metrics import accuracy_score, precision_score, recall_score, f1_score\n",
    "from sklearn.model_selection import train_test_split\n",
    "from sklearn.preprocessing import StandardScaler\n",
    "import timeit\n",
    "\n"
   ]
  },
  {
   "cell_type": "code",
   "execution_count": 62,
   "metadata": {},
   "outputs": [
    {
     "name": "stdout",
     "output_type": "stream",
     "text": [
      "   age  sex  cp  trestbps  chol  fbs  restecg  thalach  exang  oldpeak  slope  \\\n",
      "0   63    1   1       145   233    1        2      150      0      2.3      3   \n",
      "1   67    1   4       160   286    0        2      108      1      1.5      2   \n",
      "2   67    1   4       120   229    0        2      129      1      2.6      2   \n",
      "3   37    1   3       130   250    0        0      187      0      3.5      3   \n",
      "4   41    0   2       130   204    0        2      172      0      1.4      1   \n",
      "\n",
      "    ca  thal  target  \n",
      "0  0.0   6.0       0  \n",
      "1  3.0   3.0       2  \n",
      "2  2.0   7.0       1  \n",
      "3  0.0   3.0       0  \n",
      "4  0.0   3.0       0  \n"
     ]
    }
   ],
   "source": [
    "from ucimlrepo import fetch_ucirepo\n",
    "\n",
    "#Loads the Heart Disease dataset\n",
    "heart_disease = fetch_ucirepo(id=45)\n",
    "\n",
    "#X contains the independent variables and y contains the dependent variables\n",
    "X = heart_disease.data.features\n",
    "y = heart_disease.data.targets\n",
    "\n",
    "#Create the DataFrame for the dataset\n",
    "variables_df = pd.DataFrame(heart_disease.variables)\n",
    "\n",
    "#Extract the names of the feature columns\n",
    "feature_columns = variables_df[variables_df['role'] == 'Feature']['name'].tolist()\n",
    "\n",
    "#Create a DataFrame with the features\n",
    "df = pd.DataFrame(X, columns=feature_columns)\n",
    "\n",
    "#Add the target variable to the DataFrame\n",
    "df['target'] = y\n",
    "\n",
    "#Display the first few rows of the DataFrame\n",
    "print(df.head())\n"
   ]
  },
  {
   "cell_type": "code",
   "execution_count": 63,
   "metadata": {},
   "outputs": [],
   "source": [
    "#Data Preprocessing \n",
    "\n",
    "#Handle missing values if any\n",
    "df = df.dropna()\n",
    "\n",
    "#Encode categorical variables\n",
    "df = pd.get_dummies(df, columns=['sex', 'cp', 'fbs', 'restecg', 'exang', 'slope', 'thal'])\n",
    "\n",
    "#Split the data into training and testing sets\n",
    "X = df.drop('target', axis=1)\n",
    "y = df['target']\n",
    "X_train, X_test, y_train, y_test = train_test_split(X, y, test_size=0.2, random_state=42)\n",
    "\n",
    "#Standardize the data\n",
    "scaler = StandardScaler()\n",
    "X_train = scaler.fit_transform(X_train)\n",
    "X_test = scaler.transform(X_test)"
   ]
  },
  {
   "cell_type": "code",
   "execution_count": 64,
   "metadata": {},
   "outputs": [],
   "source": [
    "#Model Training and Evaluation\n",
    "def train_and_evalaute_model(model, model_name):    \n",
    "    # Train model\n",
    "    start = timeit.default_timer()\n",
    "    model.fit(X_train, y_train)\n",
    "    stop = timeit.default_timer()\n",
    "\n",
    "    #Predict on the test set\n",
    "    y_pred_svm = model.predict(X_test)\n",
    "\n",
    "    #Evaluate the model\n",
    "    model_results = pd.DataFrame([{\n",
    "        'Model': model_name,\n",
    "        'Runtime': stop - start,\n",
    "        'Accuracy': accuracy_score(y_test, y_pred_svm),\n",
    "        'Precision': precision_score(y_test, y_pred_svm, average='weighted'),  # or 'micro', 'macro', etc.\n",
    "        'Recall': recall_score(y_test, y_pred_svm, average='weighted'),\n",
    "        'F1':  f1_score(y_test, y_pred_svm, average='weighted')\n",
    "    }])\n",
    "    print(model_results.to_string(index=False))\n",
    "    return model_results\n"
   ]
  },
  {
   "cell_type": "code",
   "execution_count": 65,
   "metadata": {},
   "outputs": [
    {
     "name": "stdout",
     "output_type": "stream",
     "text": [
      "Model  Runtime  Accuracy  Precision   Recall       F1\n",
      "  SVM 0.003558  0.633333   0.517355 0.633333 0.566934\n"
     ]
    },
    {
     "name": "stderr",
     "output_type": "stream",
     "text": [
      "/home/parallels/.local/lib/python3.10/site-packages/sklearn/metrics/_classification.py:1531: UndefinedMetricWarning: Precision is ill-defined and being set to 0.0 in labels with no predicted samples. Use `zero_division` parameter to control this behavior.\n",
      "  _warn_prf(average, modifier, f\"{metric.capitalize()} is\", len(result))\n"
     ]
    }
   ],
   "source": [
    "#Train an SVM model\n",
    "svm = SVC(kernel='rbf', C=1, gamma='scale')\n",
    "svm_results = train_and_evalaute_model(svm, 'SVM')"
   ]
  },
  {
   "cell_type": "code",
   "execution_count": 66,
   "metadata": {},
   "outputs": [
    {
     "name": "stdout",
     "output_type": "stream",
     "text": [
      "         Model  Runtime  Accuracy  Precision   Recall       F1\n",
      "Neural Network 0.168644  0.616667   0.576026 0.616667 0.594813\n"
     ]
    },
    {
     "name": "stderr",
     "output_type": "stream",
     "text": [
      "/home/parallels/.local/lib/python3.10/site-packages/sklearn/neural_network/_multilayer_perceptron.py:690: ConvergenceWarning: Stochastic Optimizer: Maximum iterations (200) reached and the optimization hasn't converged yet.\n",
      "  warnings.warn(\n"
     ]
    }
   ],
   "source": [
    "#Baseline Models:Neural Network\n",
    "from sklearn.neural_network import MLPClassifier\n",
    "\n",
    "#Train a Neural Network model\n",
    "nn = MLPClassifier(random_state=42)\n",
    "nn_results = train_and_evalaute_model(nn, 'Neural Network')"
   ]
  },
  {
   "cell_type": "code",
   "execution_count": 67,
   "metadata": {},
   "outputs": [
    {
     "name": "stdout",
     "output_type": "stream",
     "text": [
      "        Model  Runtime  Accuracy  Precision  Recall       F1\n",
      "Random Forest 0.060819       0.6   0.459574     0.6 0.520482\n"
     ]
    }
   ],
   "source": [
    "#Baseline Models: Random Forest\n",
    "\n",
    "from sklearn.ensemble import RandomForestClassifier\n",
    "\n",
    "#Train a Random Forest model\n",
    "rf = RandomForestClassifier(random_state=42)\n",
    "rf_results = train_and_evalaute_model(rf, 'Random Forest')"
   ]
  },
  {
   "cell_type": "code",
   "execution_count": 68,
   "metadata": {},
   "outputs": [
    {
     "name": "stdout",
     "output_type": "stream",
     "text": [
      "              Model  Runtime  Accuracy  Precision  Recall       F1\n",
      "K-Nearest Neighbors 0.000868      0.65   0.569444    0.65 0.597003\n"
     ]
    },
    {
     "name": "stderr",
     "output_type": "stream",
     "text": [
      "/home/parallels/.local/lib/python3.10/site-packages/sklearn/metrics/_classification.py:1531: UndefinedMetricWarning: Precision is ill-defined and being set to 0.0 in labels with no predicted samples. Use `zero_division` parameter to control this behavior.\n",
      "  _warn_prf(average, modifier, f\"{metric.capitalize()} is\", len(result))\n"
     ]
    }
   ],
   "source": [
    "#Baseline Models: KNN\n",
    "\n",
    "from sklearn.neighbors import KNeighborsClassifier\n",
    "\n",
    "#Train a K-Nearest Neighbors model\n",
    "knn = KNeighborsClassifier()\n",
    "knn_results = train_and_evalaute_model(knn, 'K-Nearest Neighbors')"
   ]
  },
  {
   "cell_type": "code",
   "execution_count": 69,
   "metadata": {},
   "outputs": [
    {
     "name": "stdout",
     "output_type": "stream",
     "text": [
      "              Model  Runtime  Accuracy  Precision   Recall       F1\n",
      "                SVM 0.003558  0.633333   0.517355 0.633333 0.566934\n",
      "     Neural Network 0.168644  0.616667   0.576026 0.616667 0.594813\n",
      "      Random Forest 0.060819  0.600000   0.459574 0.600000 0.520482\n",
      "K-Nearest Neighbors 0.000868  0.650000   0.569444 0.650000 0.597003\n"
     ]
    },
    {
     "data": {
      "image/png": "[encoded data removed]",
      "text/plain": [
       "<Figure size 1200x800 with 1 Axes>"
      ]
     },
     "metadata": {},
     "output_type": "display_data"
    }
   ],
   "source": [
    "#Summarize the performance of all models\n",
    "performance = pd.concat([svm_results, nn_results, rf_results, knn_results], ignore_index=True)\n",
    "\n",
    "#Print the performance DataFrame\n",
    "print(performance.to_string(index=False))\n",
    "\n",
    "#Pivot the DataFrame to have metrics as rows and models as columns\n",
    "performance_pivot = performance.melt(id_vars='Model', var_name='Metric', value_name='Score')\n",
    "\n",
    "#Plot the performance metrics for comparison\n",
    "plt.figure(figsize=(12, 8))\n",
    "sns.barplot(x='Metric', y='Score', hue='Model', data=performance_pivot)\n",
    "plt.ylim(0, 1)  # Adjust the y-axis limits to reduce vertical space\n",
    "plt.title('Model Performance Comparison')\n",
    "plt.ylabel('Score')\n",
    "plt.xlabel('Metric')\n",
    "plt.legend(title='Model')\n",
    "plt.show()\n"
   ]
  }
 ],
 "metadata": {
  "kernelspec": {
   "display_name": "Python 3",
   "language": "python",
   "name": "python3"
  },
  "language_info": {
   "codemirror_mode": {
    "name": "ipython",
    "version": 3
   },
   "file_extension": ".py",
   "mimetype": "text/x-python",
   "name": "python",
   "nbconvert_exporter": "python",
   "pygments_lexer": "ipython3",
   "version": "3.10.12"
  }
 },
 "nbformat": 4,
 "nbformat_minor": 2
}
